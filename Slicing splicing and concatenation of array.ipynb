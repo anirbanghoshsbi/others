{
 "cells": [
  {
   "cell_type": "code",
   "execution_count": 45,
   "metadata": {},
   "outputs": [
    {
     "data": {
      "text/plain": [
       "1.0341012555628775"
      ]
     },
     "execution_count": 45,
     "metadata": {},
     "output_type": "execute_result"
    }
   ],
   "source": [
    "import numpy as np\n",
    "N=100\n",
    "D=2\n",
    "X=np.random.randn(N,D)\n",
    "#Nnp.random.randn gives a random distribution of mean zero and varience 1."
   ]
  },
  {
   "cell_type": "code",
   "execution_count": 43,
   "metadata": {},
   "outputs": [
    {
     "name": "stdout",
     "output_type": "stream",
     "text": [
      "[[ 0.13928241  0.76725579]\n",
      " [-1.0113489  -0.49214884]\n",
      " [ 0.76161704  0.46163377]\n",
      " [-0.52619407 -0.61046251]\n",
      " [-0.92624523  0.64935809]\n",
      " [-0.65390542  1.80650857]\n",
      " [-0.17327221  0.17608993]\n",
      " [ 1.16186692 -0.71868992]\n",
      " [ 0.17448254 -0.45349265]\n",
      " [-1.120966   -0.44116918]\n",
      " [-1.32684633 -0.61343615]\n",
      " [ 0.60767538 -0.01519595]\n",
      " [ 1.08420029  0.72991845]\n",
      " [-0.20291734  2.87266705]\n",
      " [ 0.03978533  1.31087028]\n",
      " [ 1.12135303  0.08379187]\n",
      " [ 1.29124167  0.27422274]\n",
      " [ 1.53303051  1.53815253]\n",
      " [ 1.42262819 -0.40116103]\n",
      " [-0.31434932 -0.24965994]\n",
      " [-0.55569141  1.17388903]\n",
      " [ 1.02740488  1.05998196]\n",
      " [ 3.46675456  0.76594575]\n",
      " [-1.44269249 -0.27944157]\n",
      " [-1.06608253 -0.38409193]\n",
      " [-1.31126725 -2.06171706]\n",
      " [-0.38253511 -1.516898  ]\n",
      " [ 0.97886457  0.26553893]\n",
      " [ 0.29235151 -0.21895034]\n",
      " [-0.13780742 -2.50483209]\n",
      " [-1.06649517 -0.13477889]\n",
      " [-1.59441469  0.02115722]\n",
      " [-0.45575942 -0.35870947]\n",
      " [ 0.15392721  1.82207041]\n",
      " [-0.14718167  0.52019103]\n",
      " [-0.8335408  -1.07131963]\n",
      " [ 0.10507443 -0.02607787]\n",
      " [ 2.33615149  0.16008733]\n",
      " [-0.49738895  1.14139579]\n",
      " [-0.24762602 -0.55945993]\n",
      " [-0.70946522 -1.73819189]\n",
      " [-0.34918434 -1.18040532]\n",
      " [ 0.51684896  1.7307687 ]\n",
      " [ 0.27067    -0.77793734]\n",
      " [-1.02454053  1.90016553]\n",
      " [ 1.13039968  0.15163224]\n",
      " [-0.22214144 -0.70487008]\n",
      " [-0.58091589 -0.86727197]\n",
      " [-0.36402149 -1.43307841]\n",
      " [-0.18079957  0.0380179 ]\n",
      " [ 0.24349258 -0.30378069]\n",
      " [ 0.12836046  0.90058363]\n",
      " [ 0.7012182  -1.85020924]\n",
      " [ 1.28582186  1.80054767]\n",
      " [-0.59495293  0.60334895]\n",
      " [-0.93114942 -0.26904004]\n",
      " [-0.68264087  0.58673991]\n",
      " [ 1.66857029 -1.33113656]\n",
      " [ 0.19655842 -0.93794081]\n",
      " [ 0.25708074 -0.63594473]\n",
      " [-0.37609368  1.23533722]\n",
      " [ 2.7917282  -0.77652503]\n",
      " [ 1.88546617  0.00385885]\n",
      " [-0.54072169  1.66828003]\n",
      " [ 0.55386609  0.04675038]\n",
      " [ 0.82207249  0.44598777]\n",
      " [ 0.15618596 -0.63354225]\n",
      " [ 1.77085725  1.22498425]\n",
      " [-0.51224091  0.0283806 ]\n",
      " [ 0.36216517 -0.6056663 ]\n",
      " [ 0.25401272 -0.05695879]\n",
      " [-0.923083   -0.27666078]\n",
      " [ 0.21646244 -0.09213362]\n",
      " [-1.32018261 -1.41534457]\n",
      " [ 0.78053217  0.6592575 ]\n",
      " [ 0.16589221  1.09722927]\n",
      " [-0.52046181  0.33628002]\n",
      " [-1.11154342 -1.9476111 ]\n",
      " [-0.0636378  -0.58653195]\n",
      " [ 0.36334122 -1.57958237]\n",
      " [ 0.6922323   2.49296463]\n",
      " [ 0.85273538  0.68875634]\n",
      " [ 1.02071051  0.45190015]\n",
      " [ 1.16478921  1.59579554]\n",
      " [ 0.80098356 -0.13790282]\n",
      " [-1.15289748 -0.55189264]\n",
      " [ 0.24789882  0.31850178]\n",
      " [ 2.02440686 -0.56857127]\n",
      " [-0.17716345  2.65510024]\n",
      " [ 0.01169438 -0.18396787]\n",
      " [-1.37886955  1.0478324 ]\n",
      " [-0.75976191  0.05804152]\n",
      " [ 0.68099827 -0.74876756]\n",
      " [-0.5733425  -0.34214824]\n",
      " [-1.00742931 -0.56969365]\n",
      " [-1.22083247 -1.57561124]\n",
      " [ 0.03199801 -0.50806899]\n",
      " [ 0.40923684 -1.01251127]\n",
      " [ 0.89589074  0.07847999]\n",
      " [ 1.16912763 -1.7403029 ]]\n"
     ]
    }
   ],
   "source": [
    "print(X)"
   ]
  },
  {
   "cell_type": "code",
   "execution_count": 3,
   "metadata": {},
   "outputs": [
    {
     "data": {
      "text/plain": [
       "array([[ 1.],\n",
       "       [ 1.],\n",
       "       [ 1.],\n",
       "       [ 1.],\n",
       "       [ 1.],\n",
       "       [ 1.],\n",
       "       [ 1.],\n",
       "       [ 1.],\n",
       "       [ 1.],\n",
       "       [ 1.],\n",
       "       [ 1.],\n",
       "       [ 1.],\n",
       "       [ 1.],\n",
       "       [ 1.],\n",
       "       [ 1.],\n",
       "       [ 1.],\n",
       "       [ 1.],\n",
       "       [ 1.],\n",
       "       [ 1.],\n",
       "       [ 1.],\n",
       "       [ 1.],\n",
       "       [ 1.],\n",
       "       [ 1.],\n",
       "       [ 1.],\n",
       "       [ 1.],\n",
       "       [ 1.],\n",
       "       [ 1.],\n",
       "       [ 1.],\n",
       "       [ 1.],\n",
       "       [ 1.],\n",
       "       [ 1.],\n",
       "       [ 1.],\n",
       "       [ 1.],\n",
       "       [ 1.],\n",
       "       [ 1.],\n",
       "       [ 1.],\n",
       "       [ 1.],\n",
       "       [ 1.],\n",
       "       [ 1.],\n",
       "       [ 1.],\n",
       "       [ 1.],\n",
       "       [ 1.],\n",
       "       [ 1.],\n",
       "       [ 1.],\n",
       "       [ 1.],\n",
       "       [ 1.],\n",
       "       [ 1.],\n",
       "       [ 1.],\n",
       "       [ 1.],\n",
       "       [ 1.],\n",
       "       [ 1.],\n",
       "       [ 1.],\n",
       "       [ 1.],\n",
       "       [ 1.],\n",
       "       [ 1.],\n",
       "       [ 1.],\n",
       "       [ 1.],\n",
       "       [ 1.],\n",
       "       [ 1.],\n",
       "       [ 1.],\n",
       "       [ 1.],\n",
       "       [ 1.],\n",
       "       [ 1.],\n",
       "       [ 1.],\n",
       "       [ 1.],\n",
       "       [ 1.],\n",
       "       [ 1.],\n",
       "       [ 1.],\n",
       "       [ 1.],\n",
       "       [ 1.],\n",
       "       [ 1.],\n",
       "       [ 1.],\n",
       "       [ 1.],\n",
       "       [ 1.],\n",
       "       [ 1.],\n",
       "       [ 1.],\n",
       "       [ 1.],\n",
       "       [ 1.],\n",
       "       [ 1.],\n",
       "       [ 1.],\n",
       "       [ 1.],\n",
       "       [ 1.],\n",
       "       [ 1.],\n",
       "       [ 1.],\n",
       "       [ 1.],\n",
       "       [ 1.],\n",
       "       [ 1.],\n",
       "       [ 1.],\n",
       "       [ 1.],\n",
       "       [ 1.],\n",
       "       [ 1.],\n",
       "       [ 1.],\n",
       "       [ 1.],\n",
       "       [ 1.],\n",
       "       [ 1.],\n",
       "       [ 1.],\n",
       "       [ 1.],\n",
       "       [ 1.],\n",
       "       [ 1.],\n",
       "       [ 1.]])"
      ]
     },
     "execution_count": 3,
     "metadata": {},
     "output_type": "execute_result"
    }
   ],
   "source": [
    "ones=np.ones((N,1))\n",
    "ones"
   ]
  },
  {
   "cell_type": "code",
   "execution_count": 4,
   "metadata": {},
   "outputs": [
    {
     "data": {
      "text/plain": [
       "array([[ 1.        , -0.8587495 , -1.07006788],\n",
       "       [ 1.        , -0.04879315, -0.12498338],\n",
       "       [ 1.        ,  0.5115163 ,  0.76278924],\n",
       "       [ 1.        , -0.71833777, -0.83546165],\n",
       "       [ 1.        , -2.10853511, -1.35170822],\n",
       "       [ 1.        , -0.06154242, -0.10793566],\n",
       "       [ 1.        , -0.62042631,  0.88261744],\n",
       "       [ 1.        , -2.09687287,  0.39969964],\n",
       "       [ 1.        , -0.66292663, -0.16777148],\n",
       "       [ 1.        , -2.12552488, -0.45383066],\n",
       "       [ 1.        ,  1.11123565,  0.77244739],\n",
       "       [ 1.        ,  0.09818253,  1.17155373],\n",
       "       [ 1.        , -1.29858733, -0.87635247],\n",
       "       [ 1.        , -1.07964163, -0.17177736],\n",
       "       [ 1.        , -0.68400921, -0.57483023],\n",
       "       [ 1.        ,  1.30753243, -0.11385845],\n",
       "       [ 1.        , -0.60567045,  0.66812126],\n",
       "       [ 1.        ,  0.79306756, -2.64381694],\n",
       "       [ 1.        ,  1.0528327 , -0.38357732],\n",
       "       [ 1.        ,  0.90283755, -0.15875659],\n",
       "       [ 1.        , -0.67025458, -0.2087091 ],\n",
       "       [ 1.        ,  0.11221139,  1.13582301],\n",
       "       [ 1.        ,  0.12758818,  2.34764823],\n",
       "       [ 1.        ,  0.06381044, -0.01927323],\n",
       "       [ 1.        , -0.93477416,  0.30685167],\n",
       "       [ 1.        ,  0.48694512,  1.11364206],\n",
       "       [ 1.        ,  1.02477025,  0.90737738],\n",
       "       [ 1.        ,  1.86242729,  0.46610246],\n",
       "       [ 1.        ,  0.34971808, -0.48792617],\n",
       "       [ 1.        , -1.44607064, -1.77003462],\n",
       "       [ 1.        , -0.2950511 ,  0.51081254],\n",
       "       [ 1.        ,  0.7862802 ,  0.3674656 ],\n",
       "       [ 1.        ,  0.54787371, -0.5550506 ],\n",
       "       [ 1.        , -1.25547995,  0.15929238],\n",
       "       [ 1.        , -1.52520575, -0.42427449],\n",
       "       [ 1.        , -1.43521491, -0.22311862],\n",
       "       [ 1.        ,  0.36285217, -0.74450251],\n",
       "       [ 1.        , -0.05316356, -1.16371554],\n",
       "       [ 1.        ,  1.65534164, -0.85066562],\n",
       "       [ 1.        ,  1.79408322, -0.98607322],\n",
       "       [ 1.        , -1.76981784, -1.08344375],\n",
       "       [ 1.        ,  0.22342085,  0.35331786],\n",
       "       [ 1.        ,  0.47334462, -0.07301475],\n",
       "       [ 1.        ,  1.16670356,  0.56370191],\n",
       "       [ 1.        , -0.78663016, -0.77356089],\n",
       "       [ 1.        ,  0.42565095, -1.04571085],\n",
       "       [ 1.        , -0.78522649, -0.35909411],\n",
       "       [ 1.        ,  0.1428187 , -0.52502526],\n",
       "       [ 1.        , -0.72088537,  0.88919555],\n",
       "       [ 1.        , -0.67458171,  0.22306241],\n",
       "       [ 1.        ,  0.05564782,  0.04692625],\n",
       "       [ 1.        , -0.01474801,  0.32093114],\n",
       "       [ 1.        , -1.44896566,  1.95533831],\n",
       "       [ 1.        , -0.17056775, -0.53586567],\n",
       "       [ 1.        , -1.05430894, -0.59925463],\n",
       "       [ 1.        , -0.58181305, -0.47821919],\n",
       "       [ 1.        , -0.26926821,  0.16644476],\n",
       "       [ 1.        ,  0.35684819, -0.13202058],\n",
       "       [ 1.        ,  0.62637932,  0.40599049],\n",
       "       [ 1.        ,  0.41973955, -0.05280706],\n",
       "       [ 1.        , -0.91880289, -1.10448696],\n",
       "       [ 1.        , -0.8743499 , -0.42308127],\n",
       "       [ 1.        , -1.73017343,  0.67118803],\n",
       "       [ 1.        , -0.31789761, -0.15166237],\n",
       "       [ 1.        ,  0.88000846,  0.37032654],\n",
       "       [ 1.        , -1.60600258, -0.43302802],\n",
       "       [ 1.        , -2.0780109 ,  1.47047511],\n",
       "       [ 1.        , -0.94970996, -0.72205966],\n",
       "       [ 1.        ,  0.61219031,  2.31217181],\n",
       "       [ 1.        ,  0.15422799, -0.10792718],\n",
       "       [ 1.        ,  0.08299755,  1.2470978 ],\n",
       "       [ 1.        , -2.02079438, -0.0353852 ],\n",
       "       [ 1.        ,  0.61664676, -0.27871796],\n",
       "       [ 1.        ,  0.03611784,  0.7392233 ],\n",
       "       [ 1.        ,  0.85496463,  0.13352805],\n",
       "       [ 1.        ,  1.44518502, -1.43199813],\n",
       "       [ 1.        , -0.27642823, -0.42503442],\n",
       "       [ 1.        , -0.69842642, -0.30024099],\n",
       "       [ 1.        ,  0.91318595,  0.68736847],\n",
       "       [ 1.        , -1.90077668,  0.30990882],\n",
       "       [ 1.        , -0.01229931,  0.46710915],\n",
       "       [ 1.        , -0.48163698, -0.8499177 ],\n",
       "       [ 1.        ,  0.78574433, -0.93447056],\n",
       "       [ 1.        , -0.5131988 , -0.16847073],\n",
       "       [ 1.        , -0.34502381,  0.99725683],\n",
       "       [ 1.        ,  0.35756974, -0.56418004],\n",
       "       [ 1.        , -0.7459279 , -0.85731372],\n",
       "       [ 1.        ,  1.11433224,  0.33252018],\n",
       "       [ 1.        ,  0.23503564,  0.88271937],\n",
       "       [ 1.        , -0.43927033, -1.03040964],\n",
       "       [ 1.        ,  0.56611839,  0.1790172 ],\n",
       "       [ 1.        , -0.82809811, -0.47476203],\n",
       "       [ 1.        , -1.84154743, -0.26655046],\n",
       "       [ 1.        , -2.11573183, -0.33533615],\n",
       "       [ 1.        , -0.80663573, -0.37833982],\n",
       "       [ 1.        , -0.61174393,  1.25496076],\n",
       "       [ 1.        , -0.1749087 ,  0.24241897],\n",
       "       [ 1.        , -0.4966082 ,  0.72955733],\n",
       "       [ 1.        , -0.11421989, -0.19525188],\n",
       "       [ 1.        , -0.54962159,  1.09660737]])"
      ]
     },
     "execution_count": 4,
     "metadata": {},
     "output_type": "execute_result"
    }
   ],
   "source": [
    "Xb=np.concatenate((ones,X),axis=1)\n",
    "Xb"
   ]
  },
  {
   "cell_type": "code",
   "execution_count": 56,
   "metadata": {},
   "outputs": [],
   "source": [
    "w = np.random.randn((D+1))\n"
   ]
  },
  {
   "cell_type": "code",
   "execution_count": 57,
   "metadata": {},
   "outputs": [
    {
     "data": {
      "text/plain": [
       "0.59257599457173971"
      ]
     },
     "execution_count": 57,
     "metadata": {},
     "output_type": "execute_result"
    }
   ],
   "source": [
    "np.var(w)"
   ]
  },
  {
   "cell_type": "code",
   "execution_count": 7,
   "metadata": {},
   "outputs": [
    {
     "data": {
      "text/plain": [
       "1"
      ]
     },
     "execution_count": 7,
     "metadata": {},
     "output_type": "execute_result"
    }
   ],
   "source": [
    "np.ndim(w)"
   ]
  },
  {
   "cell_type": "code",
   "execution_count": 59,
   "metadata": {},
   "outputs": [
    {
     "name": "stdout",
     "output_type": "stream",
     "text": [
      "(3,)\n",
      "(10, 3)\n"
     ]
    }
   ],
   "source": [
    "print(np.shape(w))\n",
    "print(np.shape(Xb))"
   ]
  },
  {
   "cell_type": "code",
   "execution_count": 60,
   "metadata": {},
   "outputs": [
    {
     "name": "stdout",
     "output_type": "stream",
     "text": [
      "(10,)\n"
     ]
    }
   ],
   "source": [
    "z=Xb.dot(w)\n",
    "print(np.shape(z))"
   ]
  },
  {
   "cell_type": "code",
   "execution_count": 61,
   "metadata": {},
   "outputs": [
    {
     "data": {
      "text/plain": [
       "array([ 0.22606421,  1.26466233,  0.79111498,  1.15493979,  1.99811944,\n",
       "        2.6354037 ,  1.60109071,  1.39600693,  1.80452295,  1.52452115])"
      ]
     },
     "execution_count": 61,
     "metadata": {},
     "output_type": "execute_result"
    }
   ],
   "source": [
    "z"
   ]
  },
  {
   "cell_type": "code",
   "execution_count": 65,
   "metadata": {},
   "outputs": [
    {
     "data": {
      "text/plain": [
       "array([ 0.22687102,  0.0940922 ,  0.14293608,  0.10387052,  0.0475109 ,\n",
       "        0.02569561,  0.06906826,  0.0834777 ,  0.05708025,  0.07415694])"
      ]
     },
     "execution_count": 65,
     "metadata": {},
     "output_type": "execute_result"
    }
   ],
   "source": [
    "def sigmoid (z):\n",
    "    return 1/(1+np.exp(z+1))\n",
    "sigmoid(z)"
   ]
  },
  {
   "cell_type": "code",
   "execution_count": 83,
   "metadata": {},
   "outputs": [
    {
     "data": {
      "text/plain": [
       "array([[ 0, 96],\n",
       "       [39, 55],\n",
       "       [37,  7],\n",
       "       [50, 28],\n",
       "       [68, 88],\n",
       "       [61, 20],\n",
       "       [ 9, 76],\n",
       "       [69,  7],\n",
       "       [30, 25],\n",
       "       [29, 26]])"
      ]
     },
     "execution_count": 83,
     "metadata": {},
     "output_type": "execute_result"
    }
   ],
   "source": [
    "X=np.random.randint(100, size=(10,2))\n",
    "X"
   ]
  },
  {
   "cell_type": "code",
   "execution_count": 85,
   "metadata": {},
   "outputs": [
    {
     "data": {
      "text/plain": [
       "array([[ 1, 96],\n",
       "       [40, 55],\n",
       "       [38,  7],\n",
       "       [51, 28],\n",
       "       [69, 88],\n",
       "       [62, 20],\n",
       "       [10, 76],\n",
       "       [70,  7],\n",
       "       [31, 25],\n",
       "       [30, 26]])"
      ]
     },
     "execution_count": 85,
     "metadata": {},
     "output_type": "execute_result"
    }
   ],
   "source": [
    "X[:,:1]=X[:, :1]+np.ones((10,1))\n",
    "X\n"
   ]
  },
  {
   "cell_type": "code",
   "execution_count": 92,
   "metadata": {},
   "outputs": [
    {
     "data": {
      "text/plain": [
       "88"
      ]
     },
     "execution_count": 92,
     "metadata": {},
     "output_type": "execute_result"
    }
   ],
   "source": [
    "X[4,1]"
   ]
  },
  {
   "cell_type": "code",
   "execution_count": 93,
   "metadata": {},
   "outputs": [
    {
     "data": {
      "text/plain": [
       "55"
      ]
     },
     "execution_count": 93,
     "metadata": {},
     "output_type": "execute_result"
    }
   ],
   "source": [
    "X[1,1]"
   ]
  },
  {
   "cell_type": "code",
   "execution_count": 94,
   "metadata": {},
   "outputs": [
    {
     "data": {
      "text/plain": [
       "array([[40]])"
      ]
     },
     "execution_count": 94,
     "metadata": {},
     "output_type": "execute_result"
    }
   ],
   "source": [
    "X[1:2,0:1]"
   ]
  },
  {
   "cell_type": "code",
   "execution_count": 95,
   "metadata": {},
   "outputs": [
    {
     "data": {
      "text/plain": [
       "array([[1]])"
      ]
     },
     "execution_count": 95,
     "metadata": {},
     "output_type": "execute_result"
    }
   ],
   "source": [
    "X[0:1,0:1]"
   ]
  },
  {
   "cell_type": "code",
   "execution_count": 103,
   "metadata": {},
   "outputs": [
    {
     "data": {
      "text/plain": [
       "array([[96],\n",
       "       [55]])"
      ]
     },
     "execution_count": 103,
     "metadata": {},
     "output_type": "execute_result"
    }
   ],
   "source": [
    "X[0:2,1:]"
   ]
  },
  {
   "cell_type": "code",
   "execution_count": 107,
   "metadata": {},
   "outputs": [
    {
     "data": {
      "text/plain": [
       "array([[ 1],\n",
       "       [40]])"
      ]
     },
     "execution_count": 107,
     "metadata": {},
     "output_type": "execute_result"
    }
   ],
   "source": [
    "X[0:2,0:1]"
   ]
  },
  {
   "cell_type": "code",
   "execution_count": 108,
   "metadata": {},
   "outputs": [
    {
     "data": {
      "text/plain": [
       "array([[ 1],\n",
       "       [40]])"
      ]
     },
     "execution_count": 108,
     "metadata": {},
     "output_type": "execute_result"
    }
   ],
   "source": [
    "X[0:2, :1]"
   ]
  },
  {
   "cell_type": "code",
   "execution_count": 111,
   "metadata": {},
   "outputs": [
    {
     "data": {
      "text/plain": [
       "array([[-0.09873584,  1.5685531 ],\n",
       "       [-1.21544273,  0.03797746],\n",
       "       [-0.32719111, -0.98873815],\n",
       "       [ 1.38305851, -1.60156645],\n",
       "       [ 0.41180607,  0.0624533 ],\n",
       "       [-1.34628536,  0.82147145],\n",
       "       [ 0.60218499,  0.40294414],\n",
       "       [ 0.86100272, -3.19194969],\n",
       "       [ 0.30771398, -0.25195095],\n",
       "       [-1.05398826,  0.44545606]])"
      ]
     },
     "execution_count": 111,
     "metadata": {},
     "output_type": "execute_result"
    }
   ],
   "source": [
    "X=np.random.randn(10,2)\n",
    "X"
   ]
  },
  {
   "cell_type": "code",
   "execution_count": 118,
   "metadata": {},
   "outputs": [
    {
     "data": {
      "text/plain": [
       "array([[-0.        ,  1.5685531 ],\n",
       "       [-0.        ,  0.03797746],\n",
       "       [-0.        , -0.98873815],\n",
       "       [ 0.        , -1.60156645],\n",
       "       [ 0.        ,  0.0624533 ],\n",
       "       [-1.34628536,  0.82147145],\n",
       "       [ 0.60218499,  0.40294414],\n",
       "       [ 0.86100272, -3.19194969],\n",
       "       [ 0.30771398, -0.25195095],\n",
       "       [-1.05398826,  0.44545606]])"
      ]
     },
     "execution_count": 118,
     "metadata": {},
     "output_type": "execute_result"
    }
   ],
   "source": [
    "X[0:5,:1]=X[0:5, :1]*np.zeros((5,1))\n",
    "X"
   ]
  },
  {
   "cell_type": "code",
   "execution_count": 122,
   "metadata": {},
   "outputs": [
    {
     "data": {
      "text/plain": [
       "array([[-0.        ,  1.5685531 ],\n",
       "       [-0.        ,  0.03797746],\n",
       "       [-0.        , -0.98873815],\n",
       "       [ 0.        , -1.60156645],\n",
       "       [ 0.        ,  0.0624533 ],\n",
       "       [-1.34628536,  1.        ],\n",
       "       [ 0.60218499,  1.        ],\n",
       "       [ 0.86100272,  1.        ],\n",
       "       [ 0.30771398,  1.        ],\n",
       "       [-1.05398826,  1.        ]])"
      ]
     },
     "execution_count": 122,
     "metadata": {},
     "output_type": "execute_result"
    }
   ],
   "source": [
    "X[5: , 1:]=np.ones((5,1))\n",
    "X"
   ]
  },
  {
   "cell_type": "code",
   "execution_count": null,
   "metadata": {
    "collapsed": true
   },
   "outputs": [],
   "source": []
  },
  {
   "cell_type": "code",
   "execution_count": 14,
   "metadata": {
    "collapsed": true
   },
   "outputs": [],
   "source": [
    "# center the first 5 points at (-2,-2)\n",
    "X[:5,:]=X[:5,:]-2*np.ones((5,2))"
   ]
  },
  {
   "cell_type": "code",
   "execution_count": 15,
   "metadata": {
    "collapsed": true
   },
   "outputs": [],
   "source": [
    "X[5:,:]=X[5:,:]+2*np.ones((5,2))"
   ]
  },
  {
   "cell_type": "code",
   "execution_count": 16,
   "metadata": {},
   "outputs": [
    {
     "data": {
      "text/plain": [
       "array([[42, 37],\n",
       "       [41,  3],\n",
       "       [25, 26],\n",
       "       [24, 18],\n",
       "       [ 6, 36],\n",
       "       [17, 34],\n",
       "       [13, 18],\n",
       "       [42,  5],\n",
       "       [19, 28],\n",
       "       [ 5, 41]])"
      ]
     },
     "execution_count": 16,
     "metadata": {},
     "output_type": "execute_result"
    }
   ],
   "source": [
    "print(X)"
   ]
  },
  {
   "cell_type": "code",
   "execution_count": 17,
   "metadata": {},
   "outputs": [
    {
     "data": {
      "text/plain": [
       "array([0, 0, 0, 0, 0, 1, 1, 1, 1, 1])"
      ]
     },
     "execution_count": 17,
     "metadata": {},
     "output_type": "execute_result"
    }
   ],
   "source": [
    "# initialize a new matrix where first 50 elements are 0 and the next are 1\n",
    "T=np.array([0]*5 +[1]*5)\n",
    "T"
   ]
  },
  {
   "cell_type": "code",
   "execution_count": 18,
   "metadata": {},
   "outputs": [
    {
     "data": {
      "text/plain": [
       "array([[ 1.],\n",
       "       [ 1.],\n",
       "       [ 1.],\n",
       "       [ 1.],\n",
       "       [ 1.],\n",
       "       [ 1.],\n",
       "       [ 1.],\n",
       "       [ 1.],\n",
       "       [ 1.],\n",
       "       [ 1.]])"
      ]
     },
     "execution_count": 18,
     "metadata": {},
     "output_type": "execute_result"
    }
   ],
   "source": [
    "ones =np.ones((10,1))\n",
    "ones"
   ]
  },
  {
   "cell_type": "code",
   "execution_count": 19,
   "metadata": {
    "collapsed": true
   },
   "outputs": [],
   "source": [
    "Xb=np.concatenate((ones , X) , axis=1)"
   ]
  },
  {
   "cell_type": "code",
   "execution_count": 20,
   "metadata": {},
   "outputs": [
    {
     "data": {
      "text/plain": [
       "array([[  1.,  42.,  37.],\n",
       "       [  1.,  41.,   3.],\n",
       "       [  1.,  25.,  26.],\n",
       "       [  1.,  24.,  18.],\n",
       "       [  1.,   6.,  36.],\n",
       "       [  1.,  17.,  34.],\n",
       "       [  1.,  13.,  18.],\n",
       "       [  1.,  42.,   5.],\n",
       "       [  1.,  19.,  28.],\n",
       "       [  1.,   5.,  41.]])"
      ]
     },
     "execution_count": 20,
     "metadata": {},
     "output_type": "execute_result"
    }
   ],
   "source": [
    "Xb"
   ]
  },
  {
   "cell_type": "code",
   "execution_count": 21,
   "metadata": {},
   "outputs": [
    {
     "data": {
      "text/plain": [
       "array([[ 4.,  4.,  4.]])"
      ]
     },
     "execution_count": 21,
     "metadata": {},
     "output_type": "execute_result"
    }
   ],
   "source": [
    "twos=4*np.ones((1,3))\n",
    "twos"
   ]
  },
  {
   "cell_type": "code",
   "execution_count": 22,
   "metadata": {
    "collapsed": true
   },
   "outputs": [],
   "source": [
    "Xc=np.concatenate((twos, Xb) ,axis=0)"
   ]
  },
  {
   "cell_type": "code",
   "execution_count": 23,
   "metadata": {},
   "outputs": [
    {
     "data": {
      "text/plain": [
       "array([[  4.,   4.,   4.],\n",
       "       [  1.,  42.,  37.],\n",
       "       [  1.,  41.,   3.],\n",
       "       [  1.,  25.,  26.],\n",
       "       [  1.,  24.,  18.],\n",
       "       [  1.,   6.,  36.],\n",
       "       [  1.,  17.,  34.],\n",
       "       [  1.,  13.,  18.],\n",
       "       [  1.,  42.,   5.],\n",
       "       [  1.,  19.,  28.],\n",
       "       [  1.,   5.,  41.]])"
      ]
     },
     "execution_count": 23,
     "metadata": {},
     "output_type": "execute_result"
    }
   ],
   "source": [
    "Xc"
   ]
  },
  {
   "cell_type": "code",
   "execution_count": 24,
   "metadata": {
    "collapsed": true
   },
   "outputs": [],
   "source": [
    "A=np.random.randint(10,size= (5,2))\n",
    "B=np.random.randint(5,size=(2))"
   ]
  },
  {
   "cell_type": "code",
   "execution_count": 25,
   "metadata": {},
   "outputs": [
    {
     "data": {
      "text/plain": [
       "array([[9, 1],\n",
       "       [6, 5],\n",
       "       [3, 5],\n",
       "       [8, 1],\n",
       "       [5, 1]])"
      ]
     },
     "execution_count": 25,
     "metadata": {},
     "output_type": "execute_result"
    }
   ],
   "source": [
    "A"
   ]
  },
  {
   "cell_type": "code",
   "execution_count": 26,
   "metadata": {},
   "outputs": [
    {
     "data": {
      "text/plain": [
       "array([4, 4])"
      ]
     },
     "execution_count": 26,
     "metadata": {},
     "output_type": "execute_result"
    }
   ],
   "source": [
    "B"
   ]
  },
  {
   "cell_type": "code",
   "execution_count": 27,
   "metadata": {
    "collapsed": true
   },
   "outputs": [],
   "source": [
    "w=A.dot(B)"
   ]
  },
  {
   "cell_type": "code",
   "execution_count": 28,
   "metadata": {},
   "outputs": [
    {
     "data": {
      "text/plain": [
       "array([40, 44, 32, 36, 24])"
      ]
     },
     "execution_count": 28,
     "metadata": {},
     "output_type": "execute_result"
    }
   ],
   "source": [
    "w"
   ]
  },
  {
   "cell_type": "code",
   "execution_count": 29,
   "metadata": {
    "collapsed": true
   },
   "outputs": [],
   "source": [
    "import numpy as np\n",
    "\n",
    "N = 10\n",
    "D = 2\n",
    "\n",
    "\n",
    "X = np.random.randn(N,D)\n",
    "\n",
    "# center the first 50 points at (-2,-2)\n",
    "X[:5,:] = X[:5,:] - 2*np.ones((5,D))\n",
    "\n",
    "# center the last 50 points at (2, 2)\n",
    "X[5:,:] = X[5:,:] + 2*np.ones((5,D))\n",
    "T = np.array([0]*5 + [1]*5)\n",
    "ones = np.ones((N, 1))\n",
    "Xb = np.concatenate((ones, X), axis=1)\n",
    "w = np.random.randn(D + 1)\n",
    "z = Xb.dot(w)"
   ]
  },
  {
   "cell_type": "code",
   "execution_count": 30,
   "metadata": {},
   "outputs": [
    {
     "data": {
      "text/plain": [
       "array([[ 1.        , -1.24791483, -4.4308033 ],\n",
       "       [ 1.        , -1.03837646, -1.58941706],\n",
       "       [ 1.        , -1.20460053, -2.95159056],\n",
       "       [ 1.        , -1.97845861, -2.7551027 ],\n",
       "       [ 1.        , -2.85956428, -1.43950754],\n",
       "       [ 1.        ,  0.81236856,  3.64491361],\n",
       "       [ 1.        ,  2.62536255,  2.72143051],\n",
       "       [ 1.        ,  0.705591  ,  0.3892722 ],\n",
       "       [ 1.        ,  1.39836971,  2.08237946],\n",
       "       [ 1.        ,  1.88485926,  1.82831582]])"
      ]
     },
     "execution_count": 30,
     "metadata": {},
     "output_type": "execute_result"
    }
   ],
   "source": [
    "Xb"
   ]
  },
  {
   "cell_type": "code",
   "execution_count": 31,
   "metadata": {},
   "outputs": [
    {
     "data": {
      "text/plain": [
       "array([-1.60850226, -0.30434356,  0.30793986])"
      ]
     },
     "execution_count": 31,
     "metadata": {},
     "output_type": "execute_result"
    }
   ],
   "source": [
    "w"
   ]
  },
  {
   "cell_type": "code",
   "execution_count": 32,
   "metadata": {},
   "outputs": [
    {
     "data": {
      "text/plain": [
       "array([-2.59312838, -1.78192395, -2.15080224, -1.85477707, -1.18149404,\n",
       "       -0.73332721, -1.56947752, -1.70337191, -1.39283944, -1.61913572])"
      ]
     },
     "execution_count": 32,
     "metadata": {},
     "output_type": "execute_result"
    }
   ],
   "source": [
    "z"
   ]
  },
  {
   "cell_type": "code",
   "execution_count": 33,
   "metadata": {
    "collapsed": true,
    "scrolled": true
   },
   "outputs": [],
   "source": [
    "z=Xb.dot(w)"
   ]
  },
  {
   "cell_type": "code",
   "execution_count": 34,
   "metadata": {},
   "outputs": [
    {
     "data": {
      "text/plain": [
       "array([-2.59312838, -1.78192395, -2.15080224, -1.85477707, -1.18149404,\n",
       "       -0.73332721, -1.56947752, -1.70337191, -1.39283944, -1.61913572])"
      ]
     },
     "execution_count": 34,
     "metadata": {},
     "output_type": "execute_result"
    }
   ],
   "source": [
    "z"
   ]
  },
  {
   "cell_type": "code",
   "execution_count": 35,
   "metadata": {
    "collapsed": true
   },
   "outputs": [],
   "source": [
    "import numpy as np\n",
    "a=np.array([1,3,5])"
   ]
  },
  {
   "cell_type": "code",
   "execution_count": 36,
   "metadata": {},
   "outputs": [
    {
     "name": "stdout",
     "output_type": "stream",
     "text": [
      "[1 3 5]\n"
     ]
    }
   ],
   "source": [
    "b=a.T\n",
    "print(b)"
   ]
  },
  {
   "cell_type": "code",
   "execution_count": 37,
   "metadata": {},
   "outputs": [
    {
     "data": {
      "text/plain": [
       "array([[5, 5, 7],\n",
       "       [9, 6, 7],\n",
       "       [6, 8, 6],\n",
       "       [7, 8, 6],\n",
       "       [5, 6, 9]])"
      ]
     },
     "execution_count": 37,
     "metadata": {},
     "output_type": "execute_result"
    }
   ],
   "source": [
    "a=np.random.randint(5,10, size=(5,3))\n",
    "a"
   ]
  },
  {
   "cell_type": "code",
   "execution_count": 38,
   "metadata": {},
   "outputs": [
    {
     "name": "stdout",
     "output_type": "stream",
     "text": [
      "[[5 9 6 7 5]\n",
      " [5 6 8 8 6]\n",
      " [7 7 6 6 9]]\n"
     ]
    }
   ],
   "source": [
    "b=a.T\n",
    "print(b)"
   ]
  },
  {
   "cell_type": "code",
   "execution_count": 39,
   "metadata": {},
   "outputs": [
    {
     "data": {
      "text/plain": [
       "array([1, 2, 3, 4, 5])"
      ]
     },
     "execution_count": 39,
     "metadata": {},
     "output_type": "execute_result"
    }
   ],
   "source": [
    "import numpy as np\n",
    "a=np.array([1,2,3,4,5])\n",
    "b=a.T\n",
    "b"
   ]
  },
  {
   "cell_type": "code",
   "execution_count": 40,
   "metadata": {},
   "outputs": [
    {
     "data": {
      "text/plain": [
       "array([[1],\n",
       "       [2],\n",
       "       [3],\n",
       "       [4],\n",
       "       [5]])"
      ]
     },
     "execution_count": 40,
     "metadata": {},
     "output_type": "execute_result"
    }
   ],
   "source": [
    "b=np.array([1,2,3,4,5]).reshape(1,5)\n",
    "c=b.T\n",
    "c"
   ]
  },
  {
   "cell_type": "markdown",
   "metadata": {},
   "source": [
    "### In the first example of array where a=[1,3,5] when I take a transpose I was anticipating the row to become column but it did not , how ever it happened in the second example. In mathematics I can transpose 1*3 matrix to 3*1 matrix , so why would I not be able to do the same in numpy."
   ]
  }
 ],
 "metadata": {
  "kernelspec": {
   "display_name": "Python 3",
   "language": "python",
   "name": "python3"
  },
  "language_info": {
   "codemirror_mode": {
    "name": "ipython",
    "version": 3
   },
   "file_extension": ".py",
   "mimetype": "text/x-python",
   "name": "python",
   "nbconvert_exporter": "python",
   "pygments_lexer": "ipython3",
   "version": "3.6.3"
  }
 },
 "nbformat": 4,
 "nbformat_minor": 2
}
