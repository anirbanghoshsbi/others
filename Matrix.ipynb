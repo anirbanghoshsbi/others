{
 "cells": [
  {
   "cell_type": "code",
   "execution_count": 7,
   "metadata": {},
   "outputs": [
    {
     "name": "stdout",
     "output_type": "stream",
     "text": [
      "[3, 5, 7]\n",
      "[3, 5, 7]\n"
     ]
    }
   ],
   "source": [
    "import numpy as np\n",
    "# adding two lists in python\n",
    "\n",
    "sum = [] \n",
    "l1 = [1, 2, 3]\n",
    "\n",
    "l2 = [2, 3, 4]\n",
    "\n",
    "for i in range(len(l1)):\n",
    "\n",
    "    sum.append(l1[i]+l2[i])\n",
    "print(sum)\n",
    "# adding in numpy\n",
    "\n",
    "a1 = np.arange(3)\n",
    "\n",
    "a2 = np.arange(3)\n",
    "\n",
    "sum2 = a1+a2\n",
    "\n",
    "print (sum)"
   ]
  },
  {
   "cell_type": "code",
   "execution_count": 8,
   "metadata": {},
   "outputs": [
    {
     "data": {
      "text/plain": [
       "array([ 0.46863812,  0.43098804, -1.03329468,  0.81058277, -1.7896862 ,\n",
       "       -0.63601768,  1.00055679, -0.5057386 , -0.77324216, -0.14043474,\n",
       "        1.41829747, -0.94844454, -0.21246714, -0.79778108, -0.71240512,\n",
       "        0.46064264,  1.2289057 ,  0.74645576,  0.71413501,  0.34096676,\n",
       "       -0.79583866, -1.6874965 ,  0.26004988, -1.36701235, -0.3193185 ,\n",
       "       -0.85282856, -0.60761676,  0.63818878, -0.35540402, -0.27394464,\n",
       "        0.24926277,  0.73604987, -0.81154786, -3.25106462, -0.59859539,\n",
       "        0.73924494,  0.5930741 ,  0.7641016 ,  0.24013515, -1.1222538 ,\n",
       "        0.06667581, -0.21598345, -1.66917143, -0.60192437, -0.2045148 ,\n",
       "       -0.19474202, -0.52060435,  0.14055552, -1.94973959, -1.49592898,\n",
       "       -0.70434253, -1.07134061, -0.61390846,  1.13262558,  0.5692862 ,\n",
       "       -1.31355329,  0.70040586, -1.65638554,  0.54564527,  1.7612448 ,\n",
       "       -0.5163636 , -0.01978168, -1.48105971,  1.42922263, -0.99316903,\n",
       "        1.39752874, -0.09885951, -1.51097452,  1.12035452,  1.35527241,\n",
       "       -0.57466318, -0.40306031, -0.19351379,  0.51127685, -0.14768512,\n",
       "       -0.40527652, -0.57567637,  1.15921797,  2.51560484,  0.21016897,\n",
       "        0.73659661,  1.13483138, -1.01346163,  1.29236623,  1.75195833,\n",
       "        1.05055011,  0.18961496,  1.908117  ,  0.77531771,  1.63967289,\n",
       "       -1.19713313, -0.05056108, -0.56978435, -0.60971074, -1.13172173,\n",
       "       -0.51107251,  0.55502999,  0.22957819, -1.04265714,  0.63110786])"
      ]
     },
     "execution_count": 8,
     "metadata": {},
     "output_type": "execute_result"
    }
   ],
   "source": [
    "np.random.randn(100)"
   ]
  },
  {
   "cell_type": "code",
   "execution_count": 13,
   "metadata": {},
   "outputs": [
    {
     "name": "stdout",
     "output_type": "stream",
     "text": [
      "6.20885800892\n",
      "6.20885800892\n"
     ]
    }
   ],
   "source": [
    "#comparing the dot product\n",
    "import numpy as np\n",
    "from datetime import datetime\n",
    "a=np.random.randn(100)\n",
    "b=np.random.randn(100)\n",
    "T=10000\n",
    "def slow_dot_product(a,b):\n",
    "    result=0\n",
    "    for e,f in zip(a,b):\n",
    "        result+=e*f\n",
    "    return result\n",
    "t0=datetime.now()\n",
    "for t in range (T):\n",
    "    slow_dot_product(a,b)\n",
    "    dt1=datetime.now()-t0\n",
    "for t in range(T):\n",
    "    c=a.dot(b)\n",
    "print(c)\n",
    "d=slow_dot_product(a,b)\n",
    "print(d)\n",
    "    "
   ]
  },
  {
   "cell_type": "code",
   "execution_count": 17,
   "metadata": {
    "collapsed": true
   },
   "outputs": [],
   "source": [
    "# Generating One Diamensional Data\n",
    "import numpy as np\n",
    "import pandas as pd\n",
    "N=10\n",
    "with open ('data_1d.csv','w') as f:\n",
    "    X=np.random.randn(N)\n",
    "    Y=2*X+1+np.random.normal(scale=4 ,size=N)\n",
    "    for i in range(N):\n",
    "        f.write(\"%s%s\\n\"% (X[i],Y[i]))\n",
    "        "
   ]
  },
  {
   "cell_type": "code",
   "execution_count": 18,
   "metadata": {},
   "outputs": [
    {
     "name": "stdout",
     "output_type": "stream",
     "text": [
      "[  4.93791138  11.92134387   5.77703617  -0.18741276  -5.54101771\n",
      "  -2.74758705  -0.73846241  -2.13764765   8.01350778   3.92875433]\n"
     ]
    }
   ],
   "source": [
    "print(Y)"
   ]
  },
  {
   "cell_type": "code",
   "execution_count": 16,
   "metadata": {},
   "outputs": [
    {
     "name": "stdout",
     "output_type": "stream",
     "text": [
      "[-0.79716557  0.38008057 -0.27971669  1.58981709 -0.31773406 -1.23660679\n",
      "  0.69242434  0.04954028  1.20802368 -1.04733744]\n"
     ]
    }
   ],
   "source": [
    "print(X)"
   ]
  },
  {
   "cell_type": "code",
   "execution_count": 21,
   "metadata": {},
   "outputs": [
    {
     "name": "stdout",
     "output_type": "stream",
     "text": [
      "[[ 38.35277869  91.04100075]\n",
      " [ 30.73499859  97.93597793]\n",
      " [ 15.42281863  68.27895389]\n",
      " [ 50.63587896  40.42829666]\n",
      " [ 88.36423523  87.43492578]]\n",
      "[ 352.06752673  351.65255582  235.37604094  225.27412151  440.91589458]\n"
     ]
    }
   ],
   "source": [
    "import numpy as np\n",
    "\n",
    "N = 5\n",
    "w = np.array([2, 3])\n",
    "with open('data_2d.csv', 'w') as f:\n",
    "    X = np.random.uniform(low=0, high=100, size=(N,2))\n",
    "    Y = np.dot(X,w) + 1 + np.random.normal(scale=3, size=N)\n",
    "    for i in range(N):\n",
    "        f.write(\"%s,%s,%s\\n\" % (X[i,0], X[i,1], Y[i]))\n",
    "print(X)\n",
    "print(Y)"
   ]
  },
  {
   "cell_type": "code",
   "execution_count": 23,
   "metadata": {},
   "outputs": [
    {
     "data": {
      "text/plain": [
       "(5, 2)"
      ]
     },
     "execution_count": 23,
     "metadata": {},
     "output_type": "execute_result"
    }
   ],
   "source": [
    "np.shape(X)"
   ]
  },
  {
   "cell_type": "code",
   "execution_count": 24,
   "metadata": {},
   "outputs": [
    {
     "data": {
      "text/plain": [
       "(2,)"
      ]
     },
     "execution_count": 24,
     "metadata": {},
     "output_type": "execute_result"
    }
   ],
   "source": [
    "np.shape(w)"
   ]
  },
  {
   "cell_type": "code",
   "execution_count": 25,
   "metadata": {},
   "outputs": [
    {
     "data": {
      "text/plain": [
       "array([ 349.82855964,  355.27793098,  235.68249894,  222.55664791,\n",
       "        439.0332478 ])"
      ]
     },
     "execution_count": 25,
     "metadata": {},
     "output_type": "execute_result"
    }
   ],
   "source": [
    "np.dot(X,w)"
   ]
  },
  {
   "cell_type": "code",
   "execution_count": 29,
   "metadata": {},
   "outputs": [
    {
     "data": {
      "text/plain": [
       "array([[ 38.35277869,  91.04100075],\n",
       "       [ 30.73499859,  97.93597793],\n",
       "       [ 15.42281863,  68.27895389],\n",
       "       [ 50.63587896,  40.42829666],\n",
       "       [ 88.36423523,  87.43492578]])"
      ]
     },
     "execution_count": 29,
     "metadata": {},
     "output_type": "execute_result"
    }
   ],
   "source": [
    "X"
   ]
  },
  {
   "cell_type": "code",
   "execution_count": 30,
   "metadata": {},
   "outputs": [
    {
     "data": {
      "text/plain": [
       "array([[ 38.35277869,  91.04100075,  30.73499859,  97.93597793,\n",
       "         15.42281863],\n",
       "       [ 68.27895389,  50.63587896,  40.42829666,  88.36423523,\n",
       "         87.43492578]])"
      ]
     },
     "execution_count": 30,
     "metadata": {},
     "output_type": "execute_result"
    }
   ],
   "source": [
    "X.reshape(2,5)"
   ]
  },
  {
   "cell_type": "code",
   "execution_count": 31,
   "metadata": {},
   "outputs": [
    {
     "data": {
      "text/plain": [
       "array([[ 38.35277869,  30.73499859,  15.42281863,  50.63587896,\n",
       "         88.36423523],\n",
       "       [ 91.04100075,  97.93597793,  68.27895389,  40.42829666,\n",
       "         87.43492578]])"
      ]
     },
     "execution_count": 31,
     "metadata": {},
     "output_type": "execute_result"
    }
   ],
   "source": [
    "X.T"
   ]
  },
  {
   "cell_type": "code",
   "execution_count": null,
   "metadata": {
    "collapsed": true
   },
   "outputs": [],
   "source": []
  }
 ],
 "metadata": {
  "kernelspec": {
   "display_name": "Python 3",
   "language": "python",
   "name": "python3"
  },
  "language_info": {
   "codemirror_mode": {
    "name": "ipython",
    "version": 3
   },
   "file_extension": ".py",
   "mimetype": "text/x-python",
   "name": "python",
   "nbconvert_exporter": "python",
   "pygments_lexer": "ipython3",
   "version": "3.6.2"
  }
 },
 "nbformat": 4,
 "nbformat_minor": 2
}
