{
  "nbformat": 4,
  "nbformat_minor": 0,
  "metadata": {
    "colab": {
      "name": "Randomly Sampling Data",
      "version": "0.3.2",
      "provenance": [],
      "collapsed_sections": [],
      "include_colab_link": true
    },
    "kernelspec": {
      "name": "python3",
      "display_name": "Python 3"
    }
  },
  "cells": [
    {
      "cell_type": "markdown",
      "metadata": {
        "id": "view-in-github",
        "colab_type": "text"
      },
      "source": [
        "[View in Colaboratory](https://colab.research.google.com/github/anirbanghoshsbi/others/blob/master/Randomly_Sampling_Data.ipynb)"
      ]
    },
    {
      "metadata": {
        "id": "XZ3--xw8Um3t",
        "colab_type": "code",
        "colab": {}
      },
      "cell_type": "code",
      "source": [
        "# import the libraries\n",
        "import random\n",
        "from sklearn import datasets\n",
        "iris= datasets.load_iris()"
      ],
      "execution_count": 0,
      "outputs": []
    },
    {
      "metadata": {
        "id": "Wo1xnMAvU8YB",
        "colab_type": "code",
        "colab": {}
      },
      "cell_type": "code",
      "source": [
        "d = iris.data"
      ],
      "execution_count": 0,
      "outputs": []
    },
    {
      "metadata": {
        "id": "9rJHRHTLVD-W",
        "colab_type": "code",
        "colab": {
          "base_uri": "https://localhost:8080/",
          "height": 34
        },
        "outputId": "7406396a-8d44-44a5-849d-64d7f421d176"
      },
      "cell_type": "code",
      "source": [
        "d.shape"
      ],
      "execution_count": 4,
      "outputs": [
        {
          "output_type": "execute_result",
          "data": {
            "text/plain": [
              "(150, 4)"
            ]
          },
          "metadata": {
            "tags": []
          },
          "execution_count": 4
        }
      ]
    },
    {
      "metadata": {
        "id": "s67qw76aVENo",
        "colab_type": "code",
        "colab": {}
      },
      "cell_type": "code",
      "source": [
        ""
      ],
      "execution_count": 0,
      "outputs": []
    },
    {
      "metadata": {
        "id": "Yla3Ilu9VR0H",
        "colab_type": "text"
      },
      "cell_type": "markdown",
      "source": [
        "Why is random number generation imortant?\n",
        "Suppose I have a dataset with n-datapoints , Iwant to uniformly sample , each point in Dataset D\n",
        "has a equal probability in sampled dataset D'"
      ]
    },
    {
      "metadata": {
        "id": "yvt2VvaGVmvT",
        "colab_type": "code",
        "colab": {
          "base_uri": "https://localhost:8080/",
          "height": 34
        },
        "outputId": "c7a1a337-4ff5-47fa-ccbe-7b915ab096e2"
      },
      "cell_type": "code",
      "source": [
        "n = 150 # my  total samples \n",
        "m = 30 # I want to randomly sample 30 points such that each point has equal probability of occuring in the list.\n",
        "p = m/n # since the random.random samples betwleen (0,1) , I make my fraction =0.2\n",
        "sample_data =[] #initializa the placeholder\n",
        "for i in range(0,n): # run through the range of the datapoints \n",
        "  if random.random()<p: # have a cut off at 0.2\n",
        "    sample_data.append(d[i,:]) # append the data\n",
        "print(len(sample_data))    # return the data length"
      ],
      "execution_count": 5,
      "outputs": [
        {
          "output_type": "stream",
          "text": [
            "28\n"
          ],
          "name": "stdout"
        }
      ]
    },
    {
      "metadata": {
        "id": "DEE2hNdfV-Pr",
        "colab_type": "code",
        "colab": {}
      },
      "cell_type": "code",
      "source": [
        ""
      ],
      "execution_count": 0,
      "outputs": []
    }
  ]
}