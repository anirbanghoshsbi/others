{
  "nbformat": 4,
  "nbformat_minor": 0,
  "metadata": {
    "colab": {
      "name": "QQplot.ipynb",
      "version": "0.3.2",
      "provenance": [],
      "collapsed_sections": [],
      "include_colab_link": true
    },
    "kernelspec": {
      "name": "python3",
      "display_name": "Python 3"
    }
  },
  "cells": [
    {
      "cell_type": "markdown",
      "metadata": {
        "id": "view-in-github",
        "colab_type": "text"
      },
      "source": [
        "[View in Colaboratory](https://colab.research.google.com/github/anirbanghoshsbi/others/blob/master/QQplot.ipynb)"
      ]
    },
    {
      "metadata": {
        "id": "jzvH6Cmh_Lxl",
        "colab_type": "code",
        "colab": {}
      },
      "cell_type": "code",
      "source": [
        "# Draw a QQ plot\n",
        "import numpy as np\n",
        "import pylab \n",
        "import scipy.stats as stats"
      ],
      "execution_count": 0,
      "outputs": []
    },
    {
      "metadata": {
        "id": "XyqSaccq_Ycn",
        "colab_type": "code",
        "colab": {}
      },
      "cell_type": "code",
      "source": [
        "strd_normal = np.random.normal(loc = 0 , scale = 1 , size =1000)"
      ],
      "execution_count": 0,
      "outputs": []
    },
    {
      "metadata": {
        "id": "ToYb_4iT_epF",
        "colab_type": "code",
        "colab": {
          "base_uri": "https://localhost:8080/",
          "height": 1734
        },
        "outputId": "47fbcc17-02be-4ad3-d0ae-f62a97b19162"
      },
      "cell_type": "code",
      "source": [
        "for i in range (0 ,101):\n",
        "  print(i , np.percentile(strd_normal , i))"
      ],
      "execution_count": 4,
      "outputs": [
        {
          "output_type": "stream",
          "text": [
            "0 -2.6266077907344685\n",
            "1 -2.0719380464867974\n",
            "2 -1.9105431005554476\n",
            "3 -1.774111721296509\n",
            "4 -1.6236453368359884\n",
            "5 -1.535246047256294\n",
            "6 -1.430037159106083\n",
            "7 -1.3879675955160649\n",
            "8 -1.318997257246922\n",
            "9 -1.2486520343823047\n",
            "10 -1.2043215775830547\n",
            "11 -1.1662008747911383\n",
            "12 -1.118057510937451\n",
            "13 -1.0647642449184203\n",
            "14 -1.0354391025960665\n",
            "15 -0.9938479196613083\n",
            "16 -0.9348146656955452\n",
            "17 -0.9095412480227252\n",
            "18 -0.8627171857455953\n",
            "19 -0.8393020407569816\n",
            "20 -0.7915402059061529\n",
            "21 -0.7527177972453912\n",
            "22 -0.7307311387929015\n",
            "23 -0.6982899695374128\n",
            "24 -0.6670198741993547\n",
            "25 -0.6434422824016284\n",
            "26 -0.6293853254597173\n",
            "27 -0.603857714441725\n",
            "28 -0.5726207985181738\n",
            "29 -0.5533652305208527\n",
            "30 -0.5276508226679668\n",
            "31 -0.5021260499439797\n",
            "32 -0.45651816617216157\n",
            "33 -0.4239723298922214\n",
            "34 -0.39785536163518\n",
            "35 -0.3733445526609825\n",
            "36 -0.3462016987413239\n",
            "37 -0.32432012462603926\n",
            "38 -0.2967393721907641\n",
            "39 -0.2742266857298661\n",
            "40 -0.25127128485538136\n",
            "41 -0.22351609076313877\n",
            "42 -0.20008061065878385\n",
            "43 -0.1684452852662513\n",
            "44 -0.14640348499481523\n",
            "45 -0.1018309147115852\n",
            "46 -0.08886480036682179\n",
            "47 -0.055728354956673304\n",
            "48 -0.03255205735543022\n",
            "49 -0.0034520022875812713\n",
            "50 0.020447804206234387\n",
            "51 0.04617651058537063\n",
            "52 0.06910833294739398\n",
            "53 0.10513014449463319\n",
            "54 0.15871242858909904\n",
            "55 0.17762524193350698\n",
            "56 0.19662907112271577\n",
            "57 0.22146264660903942\n",
            "58 0.23918571188858606\n",
            "59 0.25832593350149924\n",
            "60 0.2781463440826121\n",
            "61 0.306121301891067\n",
            "62 0.3386737426125596\n",
            "63 0.35903697124896117\n",
            "64 0.38619634183301793\n",
            "65 0.40872356569417867\n",
            "66 0.43040540251142706\n",
            "67 0.47935255552881506\n",
            "68 0.5092149319971678\n",
            "69 0.5412857524183805\n",
            "70 0.5678892597028853\n",
            "71 0.592893666828997\n",
            "72 0.6191139556014754\n",
            "73 0.6349078880695996\n",
            "74 0.6543788713259957\n",
            "75 0.6763343120165397\n",
            "76 0.7026598843199893\n",
            "77 0.7359365746815975\n",
            "78 0.7640309280249074\n",
            "79 0.7942136205053154\n",
            "80 0.8289505395496887\n",
            "81 0.8749891630376073\n",
            "82 0.9352906668709668\n",
            "83 0.9713612335292061\n",
            "84 1.0100156112247936\n",
            "85 1.0563874867281449\n",
            "86 1.0944508041170824\n",
            "87 1.1230057465377863\n",
            "88 1.1410293277186607\n",
            "89 1.1810237021488659\n",
            "90 1.2225304080215256\n",
            "91 1.27980905566974\n",
            "92 1.3235641592370537\n",
            "93 1.3978569276058537\n",
            "94 1.4405581037417672\n",
            "95 1.590810983558239\n",
            "96 1.707741288416853\n",
            "97 1.899698882395974\n",
            "98 2.110042918461368\n",
            "99 2.4911629403471682\n",
            "100 3.441735282469072\n"
          ],
          "name": "stdout"
        }
      ]
    },
    {
      "metadata": {
        "id": "6kv4zcz5_nNN",
        "colab_type": "code",
        "colab": {}
      },
      "cell_type": "code",
      "source": [
        "# generate a sample N(20 ,5)\n",
        "measurement = np.random.normal(loc = 20 , scale = 5 , size =1000)"
      ],
      "execution_count": 0,
      "outputs": []
    },
    {
      "metadata": {
        "id": "shZpB6Qt_1ii",
        "colab_type": "code",
        "colab": {
          "base_uri": "https://localhost:8080/",
          "height": 376
        },
        "outputId": "0e1b5f42-0cdf-4e94-b904-211d22d7dcd8"
      },
      "cell_type": "code",
      "source": [
        "stats.probplot(measurement , dist = 'norm',plot = pylab)\n",
        "pylab.show()"
      ],
      "execution_count": 8,
      "outputs": [
        {
          "output_type": "display_data",
          "data": {
            "image/png": "[encoded data removed]",
            "text/plain": [
              "<matplotlib.figure.Figure at 0x7f5011718438>"
            ]
          },
          "metadata": {
            "tags": []
          }
        }
      ]
    },
    {
      "metadata": {
        "id": "4TyEydqOAFD4",
        "colab_type": "text"
      },
      "cell_type": "markdown",
      "source": [
        "The Q-Q plot shows how if a given distribution is gaussian then if the other ordered distribution follows\n",
        "a straight line then it is also a gaussian distribution siilarly if the plot is straight line and plot on \n",
        "x-axis is pareto thwn the y axis is also pareto."
      ]
    },
    {
      "metadata": {
        "id": "P3tr6Aa0_9uM",
        "colab_type": "code",
        "colab": {}
      },
      "cell_type": "code",
      "source": [
        ""
      ],
      "execution_count": 0,
      "outputs": []
    }
  ]
}